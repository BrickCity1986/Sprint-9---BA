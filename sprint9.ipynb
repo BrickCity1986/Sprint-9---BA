{
 "cells": [
  {
   "cell_type": "code",
   "execution_count": null,
   "metadata": {},
   "outputs": [],
   "source": [
    "import pandas as pd\n",
    "import matplotlib.pyplot as plt\n",
    "import seaborn as sns"
   ]
  },
  {
   "cell_type": "code",
   "execution_count": null,
   "metadata": {},
   "outputs": [],
   "source": [
    "# Load the visits data\n",
    "visit_data_path = ('/mnt/data/visits_log_us.csv') \n",
    "visits_data = pd.read_csv(visits_data_path)"
   ]
  },
  {
   "cell_type": "code",
   "execution_count": null,
   "metadata": {},
   "outputs": [],
   "source": [
    "# Display the first few rows of the dataset\n",
    "visits_data.head()"
   ]
  },
  {
   "cell_type": "code",
   "execution_count": null,
   "metadata": {},
   "outputs": [],
   "source": [
    "# convert 'Start Ts' and 'End Ts' to datetime format\n",
    "visits_data['Start Ts'] = pd.to_datetime(visits_data['Start Ts'])\n",
    "visits_data['End Ts'] = pd.to_datetime(visits_data['End Ts'])"
   ]
  },
  {
   "cell_type": "code",
   "execution_count": null,
   "metadata": {},
   "outputs": [],
   "source": [
    "# Calculate the session duration in minutes \n",
    "visits_data['Session Duration'] = (visits_data['End Ts'] - visits_data['Start Ts']).dt.total_seconds() / 60"
   ]
  },
  {
   "cell_type": "code",
   "execution_count": null,
   "metadata": {},
   "outputs": [],
   "source": [
    "#check for missing values and duplicates\n",
    "missing_values = visits_data.isnull() .sum()\n",
    "duplicates = visits_data.duplicated() .sum()"
   ]
  },
  {
   "cell_type": "code",
   "execution_count": null,
   "metadata": {},
   "outputs": [],
   "source": [
    "#Load the orders data\n",
    "orders_data_path = '/mnt/data/orders_log.us.csv'\n",
    "orders_data = pd.read_csv(orders_data_path)"
   ]
  },
  {
   "cell_type": "code",
   "execution_count": null,
   "metadata": {},
   "outputs": [],
   "source": [
    "# Display the first few rows of the dataset\n",
    "orders_data.head()"
   ]
  },
  {
   "cell_type": "code",
   "execution_count": null,
   "metadata": {},
   "outputs": [],
   "source": [
    "# Convert 'Buy Ts' to datetime format\n",
    "orders_data['Buy Ts'] = pd.to_datetime(orders_data['Buy Ts'])"
   ]
  },
  {
   "cell_type": "code",
   "execution_count": null,
   "metadata": {},
   "outputs": [],
   "source": [
    "# Check for missing values and duplicates\n",
    "missing_values_orders = orders_data.isnull().sum()"
   ]
  },
  {
   "cell_type": "code",
   "execution_count": null,
   "metadata": {},
   "outputs": [],
   "source": [
    "# Check for missing values and duplicates\n",
    "missing_values_orders = orders_data.isnull().sum()\n",
    "duplicates_orders = orders_data.duplicated().sum()"
   ]
  },
  {
   "cell_type": "code",
   "execution_count": null,
   "metadata": {},
   "outputs": [],
   "source": [
    "# Load the costs data\n",
    "costs_data_path = '/mnt/data/costs_us.csv'\n",
    "costs_data = pd.read_csv(costs_data_path)"
   ]
  },
  {
   "cell_type": "code",
   "execution_count": null,
   "metadata": {},
   "outputs": [],
   "source": [
    "# Convert 'dt' to date format\n",
    "costs_data['dt'] = pd.to_datetime(costs_data['dt'])"
   ]
  },
  {
   "cell_type": "code",
   "execution_count": null,
   "metadata": {},
   "outputs": [],
   "source": [
    "# Check for missing values and duplicates\n",
    "missing_values_costs = costs_data.isnull().sum()\n",
    "duplicates_costs = costs_data.duplicated().sum()"
   ]
  },
  {
   "cell_type": "code",
   "execution_count": null,
   "metadata": {},
   "outputs": [],
   "source": [
    "# Calculate Daily Active Users (DAU), Weekly Active Users (WAU), Monthly Active Users (MAU)\n",
    "visits_data['day'] = visits_data['Start Ts'].dt.date\n",
    "visits_data['week'] = visits_data['Start Ts'].dt.isocalendar().week\n",
    "visits_data['month'] = visits_data['Start Ts'].dt.to_period('M')"
   ]
  },
  {
   "cell_type": "code",
   "execution_count": null,
   "metadata": {},
   "outputs": [],
   "source": [
    "# DAU:\n",
    "visits_data['day'] = visits_data['Start Ts'].dt.date\n",
    "DAU = visits_data.groupby('day')\n",
    "['Uid'].nunique()"
   ]
  },
  {
   "cell_type": "code",
   "execution_count": null,
   "metadata": {},
   "outputs": [],
   "source": [
    "DAU.plot(figsize=(10, 6))\n",
    "plt.title('Daily Active User')\n",
    "plt.xlabel('Day')\n",
    "plt.ylabel('Number of User')\n",
    "plt.show()"
   ]
  },
  {
   "cell_type": "code",
   "execution_count": null,
   "metadata": {},
   "outputs": [],
   "source": [
    "# WAU:\n",
    "visits_data['week'] = visits_data['Start Ts'].dt.strftime('%Y-%W')\n",
    "WAU = visits_data.groupby('week')\n",
    "['Uid'].nunique()"
   ]
  },
  {
   "cell_type": "code",
   "execution_count": null,
   "metadata": {},
   "outputs": [],
   "source": [
    "WAU.plot(figsize=(10, 6))\n",
    "plt.title('Weekly Active Users')\n",
    "plt.xlabel('Week')\n",
    "plt.ylable('Number of Users')\n",
    "plt.show()"
   ]
  },
  {
   "cell_type": "code",
   "execution_count": null,
   "metadata": {},
   "outputs": [],
   "source": [
    "# MAU:\n",
    "visits_data['month'] = visits_data['Start Ts'].dt.strftime('%Y-%M')\n",
    "MAU = visits_data.groupby('month')\n",
    "['Uid'].nunique()"
   ]
  },
  {
   "cell_type": "code",
   "execution_count": null,
   "metadata": {},
   "outputs": [],
   "source": [
    "MAU.plot(figsize=(10, 6))\n",
    "plt.title('Monthly Active Users')\n",
    "plt.xlabel('Month')\n",
    "plt.ylabel('Number of Users')\n",
    "plt.show()"
   ]
  },
  {
   "cell_type": "code",
   "execution_count": null,
   "metadata": {},
   "outputs": [],
   "source": [
    "#Calculate Number of Sessions per Day\n",
    "sessions_per_day = visits_data.groupby('day').size()"
   ]
  },
  {
   "cell_type": "code",
   "execution_count": null,
   "metadata": {},
   "outputs": [],
   "source": [
    "#Number of Sessions per Day\n",
    "sessions_per_day.plot(figsize=(10, 6))\n",
    "plt.title('Number of Sessions per Day')\n",
    "plt.xlabel('Day')\n",
    "plt.ylabel('Number of Sessions')\n",
    "plt.show()"
   ]
  },
  {
   "cell_type": "code",
   "execution_count": null,
   "metadata": {},
   "outputs": [],
   "source": [
    "#Calculate Average Session Lenth\n",
    "avg_session_length = visits_data['Session Duration'].mean()"
   ]
  },
  {
   "cell_type": "code",
   "execution_count": null,
   "metadata": {},
   "outputs": [],
   "source": [
    "#Assuming avg_session_length is a single value\n",
    "plt.figure(figsize=(5, 5))\n",
    "sns.barplot(x=['Average Session Length'], y=[avg_session_length])\n",
    "plt.ylabel('Minutes')\n",
    "plt.show()"
   ]
  },
  {
   "cell_type": "code",
   "execution_count": null,
   "metadata": {},
   "outputs": [],
   "source": [
    "# User Retention Rate\n",
    "# Determined the first vist for each user\n",
    "\n",
    "first_visit = visits_data.groupby('Uid')['Start Ts'].min()\n",
    "visits_data = visits_data.merge(first_visit.reset_index(), on='Uid', how='left', suffixes=('', '_first'))"
   ]
  },
  {
   "cell_type": "markdown",
   "metadata": {},
   "source": [
    "Sales Analysis"
   ]
  },
  {
   "cell_type": "code",
   "execution_count": null,
   "metadata": {},
   "outputs": [],
   "source": [
    "# Merge the first visit date with the orders data:\n",
    "orders_data = orders_data.merge(first_visit.reset_index(), on='Uid', how='left')\n",
    "orders_data['time_to_purchase'] = (orders_data['Buy Ts'] - orders_data['Start Ts_first']).dt.total_seconds() / 86400"
   ]
  },
  {
   "cell_type": "code",
   "execution_count": null,
   "metadata": {},
   "outputs": [],
   "source": [
    "sns.histplot(orders_data['time_to_purchase'], bins=30, kde=False)\n",
    "plt.title('Time to First Purchase Distribution')\n",
    "plt.xlabel('Days')\n",
    "plt.ylabel('Number of Users')\n",
    "plt.show()"
   ]
  },
  {
   "cell_type": "code",
   "execution_count": null,
   "metadata": {},
   "outputs": [],
   "source": [
    "# Number of Orders\n",
    "#Grouped by the desired time period and count orders:\n",
    "\n",
    "orders_per_period = orders_data.groupby(['period'])\n",
    "['Uid'].count()"
   ]
  },
  {
   "cell_type": "code",
   "execution_count": null,
   "metadata": {},
   "outputs": [],
   "source": [
    "#Number of Orders Over Time\n",
    "orders_per_period.plot(figsize=(10, 6))\n",
    "plt.title('Number of Orders Over Time')\n",
    "plt.xlabel('Time Period')\n",
    "plt.ylabel('Number of Orders')\n",
    "plt.show()"
   ]
  },
  {
   "cell_type": "markdown",
   "metadata": {},
   "source": [
    "Marketing Analysis"
   ]
  },
  {
   "cell_type": "code",
   "execution_count": null,
   "metadata": {},
   "outputs": [],
   "source": [
    "# Total Expenditure\n",
    "\n",
    "total_costs = costs_data['costs'].sum()"
   ]
  },
  {
   "cell_type": "code",
   "execution_count": null,
   "metadata": {},
   "outputs": [],
   "source": [
    "#Costs Over Time\n",
    "costs_data.groupby('dt')\n",
    "['cost'].sum().plot(figsize=(10, 6))\n",
    "plt.title('Marketing Costs Over Time')\n",
    "plt.xlabel('Date')\n",
    "plt.ylabel('Costs')\n",
    "plt.show()\n"
   ]
  }
 ],
 "metadata": {
  "kernelspec": {
   "display_name": "base",
   "language": "python",
   "name": "python3"
  },
  "language_info": {
   "codemirror_mode": {
    "name": "ipython",
    "version": 3
   },
   "file_extension": ".py",
   "mimetype": "text/x-python",
   "name": "python",
   "nbconvert_exporter": "python",
   "pygments_lexer": "ipython3",
   "version": "3.11.4"
  }
 },
 "nbformat": 4,
 "nbformat_minor": 2
}
